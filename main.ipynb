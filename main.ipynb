{
 "cells": [
  {
   "metadata": {},
   "cell_type": "markdown",
   "source": "",
   "id": "8a77807f92f26ee"
  },
  {
   "metadata": {
    "ExecuteTime": {
     "end_time": "2025-08-11T16:25:38.867968Z",
     "start_time": "2025-08-11T16:25:38.862317Z"
    }
   },
   "cell_type": "code",
   "source": [
    "import pandas as pd\n",
    "import numpy as np\n",
    "import matplotlib.pyplot as plt"
   ],
   "id": "fbc121e30a2defb3",
   "outputs": [],
   "execution_count": 41
  },
  {
   "metadata": {
    "ExecuteTime": {
     "end_time": "2025-08-11T16:25:57.081479Z",
     "start_time": "2025-08-11T16:25:38.879996Z"
    }
   },
   "cell_type": "code",
   "source": [
    "actors = pd.read_csv('data/actors.csv')\n",
    "countries = pd.read_csv('data/countries.csv')\n",
    "crew = pd.read_csv('data/crew.csv')\n",
    "genres = pd.read_csv('data/genres.csv')\n",
    "languages = pd.read_csv('data/languages.csv')\n",
    "movies = pd.read_csv('data/movies.csv')\n",
    "posters = pd.read_csv('data/posters.csv')\n",
    "releases = pd.read_csv('data/releases.csv')\n",
    "studios = pd.read_csv('data/studios.csv')\n",
    "oscars = pd.read_csv('data/the_oscar_awards.csv')\n",
    "themes = pd.read_csv('data/themes.csv')"
   ],
   "id": "4f7d6bf14ccf93ea",
   "outputs": [],
   "execution_count": 42
  },
  {
   "metadata": {
    "ExecuteTime": {
     "end_time": "2025-08-11T17:29:35.131283Z",
     "start_time": "2025-08-11T17:29:30.003232Z"
    }
   },
   "cell_type": "code",
   "source": [
    "actors['name'] = actors['name'].astype('string')\n",
    "actors['role'] = actors['role'].astype('string')\n",
    "countries['country'] = countries['country'].astype('string')\n",
    "crew['name'] = crew['name'].astype('string')\n",
    "crew['role'] = crew['role'].astype('string')\n",
    "genres['genre'] = genres['genre'].astype('string')\n",
    "languages['language'] = languages['language'].astype('string')\n",
    "languages['type'] = languages['type'].astype('string')\n",
    "movies['name'] = movies['name'].astype('string')\n",
    "movies['date'] = pd.to_datetime(movies['date'], format='%Y')"
   ],
   "id": "b671887e252a839a",
   "outputs": [],
   "execution_count": 91
  },
  {
   "metadata": {
    "ExecuteTime": {
     "end_time": "2025-08-11T16:35:44.570234Z",
     "start_time": "2025-08-11T16:35:43.850095Z"
    }
   },
   "cell_type": "code",
   "source": "crew[crew.isna().any(axis=1)]",
   "id": "a9530c82a31e6274",
   "outputs": [
    {
     "data": {
      "text/plain": [
       "              id    role  name\n",
       "4562126  1859397  Writer  <NA>"
      ],
      "text/html": [
       "<div>\n",
       "<style scoped>\n",
       "    .dataframe tbody tr th:only-of-type {\n",
       "        vertical-align: middle;\n",
       "    }\n",
       "\n",
       "    .dataframe tbody tr th {\n",
       "        vertical-align: top;\n",
       "    }\n",
       "\n",
       "    .dataframe thead th {\n",
       "        text-align: right;\n",
       "    }\n",
       "</style>\n",
       "<table border=\"1\" class=\"dataframe\">\n",
       "  <thead>\n",
       "    <tr style=\"text-align: right;\">\n",
       "      <th></th>\n",
       "      <th>id</th>\n",
       "      <th>role</th>\n",
       "      <th>name</th>\n",
       "    </tr>\n",
       "  </thead>\n",
       "  <tbody>\n",
       "    <tr>\n",
       "      <th>4562126</th>\n",
       "      <td>1859397</td>\n",
       "      <td>Writer</td>\n",
       "      <td>&lt;NA&gt;</td>\n",
       "    </tr>\n",
       "  </tbody>\n",
       "</table>\n",
       "</div>"
      ]
     },
     "execution_count": 64,
     "metadata": {},
     "output_type": "execute_result"
    }
   ],
   "execution_count": 64
  },
  {
   "metadata": {
    "ExecuteTime": {
     "end_time": "2025-08-11T17:30:14.411337Z",
     "start_time": "2025-08-11T17:30:14.403214Z"
    }
   },
   "cell_type": "code",
   "source": "movies.dtypes",
   "id": "ba0224bb2d508096",
   "outputs": [
    {
     "data": {
      "text/plain": [
       "id                      int64\n",
       "name           string[python]\n",
       "date           datetime64[ns]\n",
       "tagline                object\n",
       "description            object\n",
       "minute                float64\n",
       "rating                float64\n",
       "dtype: object"
      ]
     },
     "execution_count": 94,
     "metadata": {},
     "output_type": "execute_result"
    }
   ],
   "execution_count": 94
  },
  {
   "metadata": {
    "ExecuteTime": {
     "end_time": "2025-08-11T16:28:25.863247Z",
     "start_time": "2025-08-11T16:28:25.767479Z"
    }
   },
   "cell_type": "code",
   "source": "",
   "id": "e81861e6488355cc",
   "outputs": [
    {
     "ename": "TypeError",
     "evalue": "DataFrame.isna() takes 1 positional argument but 2 were given",
     "output_type": "error",
     "traceback": [
      "\u001B[1;31m---------------------------------------------------------------------------\u001B[0m",
      "\u001B[1;31mTypeError\u001B[0m                                 Traceback (most recent call last)",
      "Cell \u001B[1;32mIn[57], line 1\u001B[0m\n\u001B[1;32m----> 1\u001B[0m crew\u001B[38;5;241m.\u001B[39mloc[crew\u001B[38;5;241m.\u001B[39misna]\n",
      "File \u001B[1;32m~\\miniconda3\\Lib\\site-packages\\pandas\\core\\indexing.py:1189\u001B[0m, in \u001B[0;36m_LocationIndexer.__getitem__\u001B[1;34m(self, key)\u001B[0m\n\u001B[0;32m   1185\u001B[0m \u001B[38;5;28;01melse\u001B[39;00m:\n\u001B[0;32m   1186\u001B[0m     \u001B[38;5;66;03m# we by definition only have the 0th axis\u001B[39;00m\n\u001B[0;32m   1187\u001B[0m     axis \u001B[38;5;241m=\u001B[39m \u001B[38;5;28mself\u001B[39m\u001B[38;5;241m.\u001B[39maxis \u001B[38;5;129;01mor\u001B[39;00m \u001B[38;5;241m0\u001B[39m\n\u001B[1;32m-> 1189\u001B[0m     maybe_callable \u001B[38;5;241m=\u001B[39m com\u001B[38;5;241m.\u001B[39mapply_if_callable(key, \u001B[38;5;28mself\u001B[39m\u001B[38;5;241m.\u001B[39mobj)\n\u001B[0;32m   1190\u001B[0m     maybe_callable \u001B[38;5;241m=\u001B[39m \u001B[38;5;28mself\u001B[39m\u001B[38;5;241m.\u001B[39m_check_deprecated_callable_usage(key, maybe_callable)\n\u001B[0;32m   1191\u001B[0m     \u001B[38;5;28;01mreturn\u001B[39;00m \u001B[38;5;28mself\u001B[39m\u001B[38;5;241m.\u001B[39m_getitem_axis(maybe_callable, axis\u001B[38;5;241m=\u001B[39maxis)\n",
      "File \u001B[1;32m~\\miniconda3\\Lib\\site-packages\\pandas\\core\\common.py:384\u001B[0m, in \u001B[0;36mapply_if_callable\u001B[1;34m(maybe_callable, obj, **kwargs)\u001B[0m\n\u001B[0;32m    373\u001B[0m \u001B[38;5;250m\u001B[39m\u001B[38;5;124;03m\"\"\"\u001B[39;00m\n\u001B[0;32m    374\u001B[0m \u001B[38;5;124;03mEvaluate possibly callable input using obj and kwargs if it is callable,\u001B[39;00m\n\u001B[0;32m    375\u001B[0m \u001B[38;5;124;03motherwise return as it is.\u001B[39;00m\n\u001B[1;32m   (...)\u001B[0m\n\u001B[0;32m    381\u001B[0m \u001B[38;5;124;03m**kwargs\u001B[39;00m\n\u001B[0;32m    382\u001B[0m \u001B[38;5;124;03m\"\"\"\u001B[39;00m\n\u001B[0;32m    383\u001B[0m \u001B[38;5;28;01mif\u001B[39;00m \u001B[38;5;28mcallable\u001B[39m(maybe_callable):\n\u001B[1;32m--> 384\u001B[0m     \u001B[38;5;28;01mreturn\u001B[39;00m maybe_callable(obj, \u001B[38;5;241m*\u001B[39m\u001B[38;5;241m*\u001B[39mkwargs)\n\u001B[0;32m    386\u001B[0m \u001B[38;5;28;01mreturn\u001B[39;00m maybe_callable\n",
      "\u001B[1;31mTypeError\u001B[0m: DataFrame.isna() takes 1 positional argument but 2 were given"
     ]
    }
   ],
   "execution_count": 57
  }
 ],
 "metadata": {
  "kernelspec": {
   "display_name": "Python 3",
   "language": "python",
   "name": "python3"
  },
  "language_info": {
   "codemirror_mode": {
    "name": "ipython",
    "version": 2
   },
   "file_extension": ".py",
   "mimetype": "text/x-python",
   "name": "python",
   "nbconvert_exporter": "python",
   "pygments_lexer": "ipython2",
   "version": "2.7.6"
  }
 },
 "nbformat": 4,
 "nbformat_minor": 5
}
